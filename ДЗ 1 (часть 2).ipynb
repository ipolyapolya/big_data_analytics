{
 "cells": [
  {
   "cell_type": "markdown",
   "metadata": {
    "id": "ye_4O1r4eDZ_"
   },
   "source": [
    "### Задача 1 (1 балл)\n",
    "\n",
    "\n",
    "$ 1.$\n",
    "\n",
    "Создайте с помощью np.random.randint numpy массив из 20-ти рандомных чисел.\n",
    "Посчитайте с помощью методов numpy и выведите на экран:\n",
    "\n",
    "* среднее значение в массиве\n",
    "* минимальное значение в массиве\n",
    "* максимальное значение в массиве\n",
    "* индекс минимального элемента в массиве\n",
    "* массив, который содержит те элементы исходного массива, которые больше 10\n",
    "\n",
    "\n",
    "$ 2.$\n",
    "1. Сгенерируйте рандомный массив b размера 3x1.\n",
    "2. Сгенерируйте матрицу С размера 3x3.\n",
    "3. Решите систему Cx = b с помощью numpy.linalg.solve (как это делать - можно почитать в документации: https://numpy.org/doc/stable/reference/generated/numpy.linalg.solve.html)\n",
    "4. Подумайте/погуглите, в каком случае numpy.linalg.solve вернет ошибку LinAlgError. Воспроизведите этот случай."
   ]
  },
  {
   "cell_type": "markdown",
   "metadata": {
    "id": "m8DDcNCt03NQ"
   },
   "source": [
    "Пользуйтесь документацией numpy:  https://numpy.org"
   ]
  },
  {
   "cell_type": "code",
   "execution_count": 2,
   "metadata": {
    "id": "GqO9jTvhofAf"
   },
   "outputs": [],
   "source": [
    "import numpy as np"
   ]
  },
  {
   "cell_type": "code",
   "execution_count": 3,
   "metadata": {},
   "outputs": [
    {
     "data": {
      "text/plain": [
       "array([715, 578, 307, 470, 303, 379, 567, 766, 759, 902, 883, 406, 477,\n",
       "       855, 567, 410, 603, 504, 550, 334])"
      ]
     },
     "execution_count": 3,
     "metadata": {},
     "output_type": "execute_result"
    }
   ],
   "source": [
    "# создаю массив\n",
    "rand_arr = np.random.randint(0, 1000, size=20)\n",
    "rand_arr"
   ]
  },
  {
   "cell_type": "code",
   "execution_count": 4,
   "metadata": {},
   "outputs": [
    {
     "data": {
      "text/plain": [
       "566.75"
      ]
     },
     "execution_count": 4,
     "metadata": {},
     "output_type": "execute_result"
    }
   ],
   "source": [
    "# среднее значение в массиве\n",
    "rand_arr.mean()"
   ]
  },
  {
   "cell_type": "code",
   "execution_count": 5,
   "metadata": {},
   "outputs": [
    {
     "data": {
      "text/plain": [
       "303"
      ]
     },
     "execution_count": 5,
     "metadata": {},
     "output_type": "execute_result"
    }
   ],
   "source": [
    "# минимальное значение в массиве\n",
    "rand_arr.min()"
   ]
  },
  {
   "cell_type": "code",
   "execution_count": 6,
   "metadata": {},
   "outputs": [
    {
     "data": {
      "text/plain": [
       "902"
      ]
     },
     "execution_count": 6,
     "metadata": {},
     "output_type": "execute_result"
    }
   ],
   "source": [
    "# максимальное значение в массиве\n",
    "rand_arr.max()"
   ]
  },
  {
   "cell_type": "code",
   "execution_count": 7,
   "metadata": {},
   "outputs": [
    {
     "data": {
      "text/plain": [
       "4"
      ]
     },
     "execution_count": 7,
     "metadata": {},
     "output_type": "execute_result"
    }
   ],
   "source": [
    "# индекс минимального элемента в массиве\n",
    "np.argmin(rand_arr)"
   ]
  },
  {
   "cell_type": "code",
   "execution_count": 8,
   "metadata": {},
   "outputs": [
    {
     "data": {
      "text/plain": [
       "array([715, 578, 307, 470, 303, 379, 567, 766, 759, 902, 883, 406, 477,\n",
       "       855, 567, 410, 603, 504, 550, 334])"
      ]
     },
     "execution_count": 8,
     "metadata": {},
     "output_type": "execute_result"
    }
   ],
   "source": [
    "# массив, который содержит те элементы исходного массива, которые больше 10\n",
    "rand_arr[rand_arr > 10]"
   ]
  },
  {
   "cell_type": "code",
   "execution_count": 12,
   "metadata": {},
   "outputs": [
    {
     "data": {
      "text/plain": [
       "array([[0.33108954],\n",
       "       [0.49157983],\n",
       "       [0.71427138]])"
      ]
     },
     "execution_count": 12,
     "metadata": {},
     "output_type": "execute_result"
    }
   ],
   "source": [
    "# Сгенерируйте рандомный массив b размера 3x1.\n",
    "b = np.random.rand(3, 1)\n",
    "b"
   ]
  },
  {
   "cell_type": "code",
   "execution_count": 13,
   "metadata": {},
   "outputs": [
    {
     "data": {
      "text/plain": [
       "array([[0.52131675, 0.66130161, 0.59632079],\n",
       "       [0.44491132, 0.27452572, 0.00884487],\n",
       "       [0.3855189 , 0.80182257, 0.64273645]])"
      ]
     },
     "execution_count": 13,
     "metadata": {},
     "output_type": "execute_result"
    }
   ],
   "source": [
    "# Сгенерируйте матрицу С размера 3x3.\n",
    "C = np.random.rand(3, 3)\n",
    "C"
   ]
  },
  {
   "cell_type": "code",
   "execution_count": 14,
   "metadata": {},
   "outputs": [
    {
     "data": {
      "text/plain": [
       "array([[-0.59888591],\n",
       "       [ 2.82750707],\n",
       "       [-2.05683956]])"
      ]
     },
     "execution_count": 14,
     "metadata": {},
     "output_type": "execute_result"
    }
   ],
   "source": [
    "# Решите систему Cx = b с помощью numpy.linalg.solve\n",
    "np.linalg.solve(C, b)"
   ]
  },
  {
   "cell_type": "code",
   "execution_count": 16,
   "metadata": {},
   "outputs": [
    {
     "ename": "LinAlgError",
     "evalue": "Last 2 dimensions of the array must be square",
     "output_type": "error",
     "traceback": [
      "\u001b[0;31m---------------------------------------------------------------------------\u001b[0m",
      "\u001b[0;31mLinAlgError\u001b[0m                               Traceback (most recent call last)",
      "\u001b[0;32m<ipython-input-16-47af92458100>\u001b[0m in \u001b[0;36m<module>\u001b[0;34m\u001b[0m\n\u001b[1;32m      2\u001b[0m \u001b[0ma\u001b[0m \u001b[0;34m=\u001b[0m \u001b[0mnp\u001b[0m\u001b[0;34m.\u001b[0m\u001b[0mrandom\u001b[0m\u001b[0;34m.\u001b[0m\u001b[0mrand\u001b[0m\u001b[0;34m(\u001b[0m\u001b[0;36m2\u001b[0m\u001b[0;34m,\u001b[0m \u001b[0;36m3\u001b[0m\u001b[0;34m)\u001b[0m\u001b[0;34m\u001b[0m\u001b[0;34m\u001b[0m\u001b[0m\n\u001b[1;32m      3\u001b[0m \u001b[0md\u001b[0m \u001b[0;34m=\u001b[0m \u001b[0mnp\u001b[0m\u001b[0;34m.\u001b[0m\u001b[0mrandom\u001b[0m\u001b[0;34m.\u001b[0m\u001b[0mrand\u001b[0m\u001b[0;34m(\u001b[0m\u001b[0;36m3\u001b[0m\u001b[0;34m,\u001b[0m \u001b[0;36m1\u001b[0m\u001b[0;34m)\u001b[0m\u001b[0;34m\u001b[0m\u001b[0;34m\u001b[0m\u001b[0m\n\u001b[0;32m----> 4\u001b[0;31m \u001b[0mnp\u001b[0m\u001b[0;34m.\u001b[0m\u001b[0mlinalg\u001b[0m\u001b[0;34m.\u001b[0m\u001b[0msolve\u001b[0m\u001b[0;34m(\u001b[0m\u001b[0ma\u001b[0m\u001b[0;34m,\u001b[0m \u001b[0md\u001b[0m\u001b[0;34m)\u001b[0m\u001b[0;34m\u001b[0m\u001b[0;34m\u001b[0m\u001b[0m\n\u001b[0m",
      "\u001b[0;32m<__array_function__ internals>\u001b[0m in \u001b[0;36msolve\u001b[0;34m(*args, **kwargs)\u001b[0m\n",
      "\u001b[0;32m/opt/tljh/user/lib/python3.7/site-packages/numpy/linalg/linalg.py\u001b[0m in \u001b[0;36msolve\u001b[0;34m(a, b)\u001b[0m\n\u001b[1;32m    378\u001b[0m     \u001b[0ma\u001b[0m\u001b[0;34m,\u001b[0m \u001b[0m_\u001b[0m \u001b[0;34m=\u001b[0m \u001b[0m_makearray\u001b[0m\u001b[0;34m(\u001b[0m\u001b[0ma\u001b[0m\u001b[0;34m)\u001b[0m\u001b[0;34m\u001b[0m\u001b[0;34m\u001b[0m\u001b[0m\n\u001b[1;32m    379\u001b[0m     \u001b[0m_assert_stacked_2d\u001b[0m\u001b[0;34m(\u001b[0m\u001b[0ma\u001b[0m\u001b[0;34m)\u001b[0m\u001b[0;34m\u001b[0m\u001b[0;34m\u001b[0m\u001b[0m\n\u001b[0;32m--> 380\u001b[0;31m     \u001b[0m_assert_stacked_square\u001b[0m\u001b[0;34m(\u001b[0m\u001b[0ma\u001b[0m\u001b[0;34m)\u001b[0m\u001b[0;34m\u001b[0m\u001b[0;34m\u001b[0m\u001b[0m\n\u001b[0m\u001b[1;32m    381\u001b[0m     \u001b[0mb\u001b[0m\u001b[0;34m,\u001b[0m \u001b[0mwrap\u001b[0m \u001b[0;34m=\u001b[0m \u001b[0m_makearray\u001b[0m\u001b[0;34m(\u001b[0m\u001b[0mb\u001b[0m\u001b[0;34m)\u001b[0m\u001b[0;34m\u001b[0m\u001b[0;34m\u001b[0m\u001b[0m\n\u001b[1;32m    382\u001b[0m     \u001b[0mt\u001b[0m\u001b[0;34m,\u001b[0m \u001b[0mresult_t\u001b[0m \u001b[0;34m=\u001b[0m \u001b[0m_commonType\u001b[0m\u001b[0;34m(\u001b[0m\u001b[0ma\u001b[0m\u001b[0;34m,\u001b[0m \u001b[0mb\u001b[0m\u001b[0;34m)\u001b[0m\u001b[0;34m\u001b[0m\u001b[0;34m\u001b[0m\u001b[0m\n",
      "\u001b[0;32m/opt/tljh/user/lib/python3.7/site-packages/numpy/linalg/linalg.py\u001b[0m in \u001b[0;36m_assert_stacked_square\u001b[0;34m(*arrays)\u001b[0m\n\u001b[1;32m    201\u001b[0m         \u001b[0mm\u001b[0m\u001b[0;34m,\u001b[0m \u001b[0mn\u001b[0m \u001b[0;34m=\u001b[0m \u001b[0ma\u001b[0m\u001b[0;34m.\u001b[0m\u001b[0mshape\u001b[0m\u001b[0;34m[\u001b[0m\u001b[0;34m-\u001b[0m\u001b[0;36m2\u001b[0m\u001b[0;34m:\u001b[0m\u001b[0;34m]\u001b[0m\u001b[0;34m\u001b[0m\u001b[0;34m\u001b[0m\u001b[0m\n\u001b[1;32m    202\u001b[0m         \u001b[0;32mif\u001b[0m \u001b[0mm\u001b[0m \u001b[0;34m!=\u001b[0m \u001b[0mn\u001b[0m\u001b[0;34m:\u001b[0m\u001b[0;34m\u001b[0m\u001b[0;34m\u001b[0m\u001b[0m\n\u001b[0;32m--> 203\u001b[0;31m             \u001b[0;32mraise\u001b[0m \u001b[0mLinAlgError\u001b[0m\u001b[0;34m(\u001b[0m\u001b[0;34m'Last 2 dimensions of the array must be square'\u001b[0m\u001b[0;34m)\u001b[0m\u001b[0;34m\u001b[0m\u001b[0;34m\u001b[0m\u001b[0m\n\u001b[0m\u001b[1;32m    204\u001b[0m \u001b[0;34m\u001b[0m\u001b[0m\n\u001b[1;32m    205\u001b[0m \u001b[0;32mdef\u001b[0m \u001b[0m_assert_finite\u001b[0m\u001b[0;34m(\u001b[0m\u001b[0;34m*\u001b[0m\u001b[0marrays\u001b[0m\u001b[0;34m)\u001b[0m\u001b[0;34m:\u001b[0m\u001b[0;34m\u001b[0m\u001b[0;34m\u001b[0m\u001b[0m\n",
      "\u001b[0;31mLinAlgError\u001b[0m: Last 2 dimensions of the array must be square"
     ]
    }
   ],
   "source": [
    "# в каком случае numpy.linalg.solve вернет ошибку LinAlgError\n",
    "\n",
    "a = np.random.rand(2, 3)\n",
    "d = np.random.rand(3, 1)\n",
    "np.linalg.solve(a, d)"
   ]
  },
  {
   "cell_type": "markdown",
   "metadata": {
    "id": "q-oSixsb09RV"
   },
   "source": [
    "### Задача 2 (0.5 балла)\n",
    "Ниже создаются две матрицы A, B."
   ]
  },
  {
   "cell_type": "code",
   "execution_count": 17,
   "metadata": {
    "id": "F93ouxr91AK-"
   },
   "outputs": [],
   "source": [
    "A = np.array([[1, 2, 30], [2, 1, 3], [20, 1, 3]])\n",
    "B = np.array([[8, 12, 19], [12, 13, 11], [10, 2, 3]])"
   ]
  },
  {
   "cell_type": "code",
   "execution_count": 18,
   "metadata": {
    "colab": {
     "base_uri": "https://localhost:8080/"
    },
    "id": "WCm95Nuu1e_L",
    "outputId": "4f360576-c3c8-4732-9529-de9daededc18"
   },
   "outputs": [
    {
     "data": {
      "text/plain": [
       "array([[ 1,  2, 30],\n",
       "       [ 2,  1,  3],\n",
       "       [20,  1,  3]])"
      ]
     },
     "execution_count": 18,
     "metadata": {},
     "output_type": "execute_result"
    }
   ],
   "source": [
    "A"
   ]
  },
  {
   "cell_type": "code",
   "execution_count": 19,
   "metadata": {
    "colab": {
     "base_uri": "https://localhost:8080/"
    },
    "id": "vEL0jLkq1fd_",
    "outputId": "25651af4-775b-46c9-e51c-d319a27c84b7"
   },
   "outputs": [
    {
     "data": {
      "text/plain": [
       "array([[ 8, 12, 19],\n",
       "       [12, 13, 11],\n",
       "       [10,  2,  3]])"
      ]
     },
     "execution_count": 19,
     "metadata": {},
     "output_type": "execute_result"
    }
   ],
   "source": [
    "B"
   ]
  },
  {
   "cell_type": "markdown",
   "metadata": {
    "id": "Unitf67H1lLh"
   },
   "source": [
    "С помощью numpy найдите:\n",
    "1. Сумма матриц A и B\n",
    "2. Произведение матриц A и B\n",
    "3. Произведение матриц B и A\n",
    "4. Определители матриц A и B\n",
    "5. Матрицу $A^T + BA$\n",
    "6. Матрицу, обратную к матрице A\n",
    "\n",
    "Пользуйтесь документацией numpy:  https://numpy.org"
   ]
  },
  {
   "cell_type": "code",
   "execution_count": 20,
   "metadata": {},
   "outputs": [
    {
     "data": {
      "text/plain": [
       "array([[ 9, 14, 49],\n",
       "       [14, 14, 14],\n",
       "       [30,  3,  6]])"
      ]
     },
     "execution_count": 20,
     "metadata": {},
     "output_type": "execute_result"
    }
   ],
   "source": [
    "# Сумма матриц A и B\n",
    "np.add(A, B)"
   ]
  },
  {
   "cell_type": "code",
   "execution_count": 21,
   "metadata": {},
   "outputs": [
    {
     "data": {
      "text/plain": [
       "array([[332,  98, 131],\n",
       "       [ 58,  43,  58],\n",
       "       [202, 259, 400]])"
      ]
     },
     "execution_count": 21,
     "metadata": {},
     "output_type": "execute_result"
    }
   ],
   "source": [
    "# Произведение матриц A и B\n",
    "np.dot(A, B)"
   ]
  },
  {
   "cell_type": "code",
   "execution_count": 22,
   "metadata": {},
   "outputs": [
    {
     "data": {
      "text/plain": [
       "array([[412,  47, 333],\n",
       "       [258,  48, 432],\n",
       "       [ 74,  25, 315]])"
      ]
     },
     "execution_count": 22,
     "metadata": {},
     "output_type": "execute_result"
    }
   ],
   "source": [
    "# Произведение матриц B и A\n",
    "np.dot(B, A)"
   ]
  },
  {
   "cell_type": "code",
   "execution_count": 25,
   "metadata": {},
   "outputs": [
    {
     "data": {
      "text/plain": [
       "(-432.00000000000017, -990.0000000000001)"
      ]
     },
     "execution_count": 25,
     "metadata": {},
     "output_type": "execute_result"
    }
   ],
   "source": [
    "# Определители матриц A и B\n",
    "det_a = np.linalg.det(A)\n",
    "det_b = np.linalg.det(B)\n",
    "\n",
    "det_a, det_b"
   ]
  },
  {
   "cell_type": "code",
   "execution_count": 26,
   "metadata": {},
   "outputs": [
    {
     "data": {
      "text/plain": [
       "array([[413,  49, 353],\n",
       "       [260,  49, 433],\n",
       "       [104,  28, 318]])"
      ]
     },
     "execution_count": 26,
     "metadata": {},
     "output_type": "execute_result"
    }
   ],
   "source": [
    "# Матрица 𝐴𝑇+𝐵𝐴 \n",
    "np.add(np.transpose(A), np.dot(B, A))"
   ]
  },
  {
   "cell_type": "code",
   "execution_count": 27,
   "metadata": {},
   "outputs": [
    {
     "data": {
      "text/plain": [
       "array([[-5.55111512e-18, -5.55555556e-02,  5.55555556e-02],\n",
       "       [-1.25000000e-01,  1.38194444e+00, -1.31944444e-01],\n",
       "       [ 4.16666667e-02, -9.02777778e-02,  6.94444444e-03]])"
      ]
     },
     "execution_count": 27,
     "metadata": {},
     "output_type": "execute_result"
    }
   ],
   "source": [
    "# Матрица, обратная к матрице A\n",
    "np.linalg.inv(A)"
   ]
  },
  {
   "cell_type": "markdown",
   "metadata": {
    "id": "pWPq7FRRkkAF"
   },
   "source": [
    "### Задача 3 (2 балла)\n",
    "\n",
    "Сравните производительность операций умножения матриц с использованием библиотеки NumPy и стандартных списков Python для матриц размером от 2x2 до 100x100.\n",
    "\n",
    "1. Сгенерируйте две матрицы A и B случайного размера от nxn, заполненные случайными целыми числами от 1 до 50.\n",
    "2. Используя библиотеку NumPy, выполните умножение матриц A и B. Измерьте время выполнения операции.\n",
    "3. Реализуйте функцию для умножения матриц с помощью стандартных списков Python. Измерьте время выполнения этой операции.\n",
    "4. Сделайте вышеперечисленные пункты для n=2,...100 (используйте цикл).\n",
    "5. Для какого-нибудь n проверьте, что результаты умножения (получившаяся матрица) совпадают.\n",
    "\n",
    "\n",
    "6. Постройте график, где по оси X будет размер матрицы, по оси Y - время выполнения операции. Постройте два графика (для numpy и для стандартных списков)\n",
    "Сделайте выводы.\n",
    "В качестве шаблона можете использовать части кода ниже (а можете не использовать)\n"
   ]
  },
  {
   "cell_type": "code",
   "execution_count": 3,
   "metadata": {
    "id": "PrhUt9Ux1L9X"
   },
   "outputs": [],
   "source": [
    "import time # понадобится для замера времени в следующей задаче"
   ]
  },
  {
   "cell_type": "code",
   "execution_count": 4,
   "metadata": {},
   "outputs": [],
   "source": [
    "import matplotlib.pyplot as plt"
   ]
  },
  {
   "cell_type": "code",
   "execution_count": 10,
   "metadata": {
    "id": "2PHx1CNP2vaS"
   },
   "outputs": [
    {
     "name": "stdout",
     "output_type": "stream",
     "text": [
      "[[17 45 36 46  8]\n",
      " [15 28 27 23 30]\n",
      " [ 1 26 41  2 27]\n",
      " [15 11 20 26 20]\n",
      " [43 50 11 34 42]]\n",
      "[[23 16 22 50 25]\n",
      " [20 21 17 37  6]\n",
      " [45 21 19 48 14]\n",
      " [42 42 39 30 12]\n",
      " [39  8  5 21 44]]\n",
      "[[5155 3969 3657 5791 2103]\n",
      " [4256 2601 2366 4402 2517]\n",
      " [3525 1723 1456 3607 1967]\n",
      " [3337 2143 2011 3317 1913]\n",
      " [5550 3733 3541 6430 3785]]\n",
      "[[5155, 3969, 3657, 5791, 2103], [4256, 2601, 2366, 4402, 2517], [3525, 1723, 1456, 3607, 1967], [3337, 2143, 2011, 3317, 1913], [5550, 3733, 3541, 6430, 3785]]\n"
     ]
    }
   ],
   "source": [
    "def matrix_multiply(A, B):\n",
    "\n",
    "    rows_A = len(A)\n",
    "    cols_A = len(A[0]) if rows_A > 0 else 0\n",
    "    rows_B = len(B)\n",
    "    cols_B = len(B[0]) if rows_B > 0 else 0\n",
    "\n",
    "    # Создаем результирующую матрицу с нулями\n",
    "    result = [[0] * cols_B for _ in range(rows_A)]\n",
    "\n",
    "    # Умножаем матрицы\n",
    "    for i in range(rows_A):\n",
    "        for j in range(cols_B):\n",
    "            for k in range(cols_A):\n",
    "                result[i][j] += A[i][k] * B[k][j]\n",
    "\n",
    "    return result\n",
    "\n",
    "sizes = range(2, 101)\n",
    "numpy_times = []\n",
    "custom_times = []\n",
    "\n",
    "for n in sizes:\n",
    "    # Генерация случайных матриц A и B\n",
    "    A = np.random.randint(1, 51, size=(n, n))\n",
    "    B = np.random.randint(1, 51, size=(n, n))\n",
    "\n",
    "    # Умножение с помощью NumPy\n",
    "    start_time = time.time()\n",
    "    C_numpy = np.dot(A, B)\n",
    "    numpy_times.append(time.time() - start_time)\n",
    "\n",
    "    # Умножение с помощью стандартных списков Python\n",
    "    A_list = A.tolist()  # Преобразуем NumPy массив в стандартный список\n",
    "    B_list = B.tolist()\n",
    "    \n",
    "    start_time = time.time()\n",
    "    C_custom = matrix_multiply(A_list, B_list)\n",
    "    custom_times.append(time.time() - start_time)\n",
    "    \n",
    "    if n == 5:\n",
    "        print(A)\n",
    "        print(B)\n",
    "        print(C_numpy)\n",
    "        print(C_custom)\n",
    "    else:\n",
    "        pass"
   ]
  },
  {
   "cell_type": "code",
   "execution_count": 11,
   "metadata": {
    "id": "FKD4JOEHlCLq"
   },
   "outputs": [
    {
     "data": {
      "image/png": "[encoded data removed]",
      "text/plain": [
       "<Figure size 864x432 with 1 Axes>"
      ]
     },
     "metadata": {
      "needs_background": "light"
     },
     "output_type": "display_data"
    }
   ],
   "source": [
    "plt.figure(figsize=(12, 6))\n",
    "plt.plot(sizes, numpy_times, label='NumPy')\n",
    "plt.plot(sizes, custom_times, label='List')\n",
    "plt.xlabel('n')\n",
    "plt.ylabel('Time (ms)')\n",
    "plt.title('Время выполнения умножения')\n",
    "plt.legend()\n",
    "plt.grid()\n",
    "plt.show()"
   ]
  },
  {
   "cell_type": "markdown",
   "metadata": {},
   "source": [
    "### Выводы\n",
    "- время умножения матриц через Numpy практически не меняется с увеличением размера матриц, в то время как для умножения через списки размер матрицы играет ключевую роль\n",
    "- разница начинает появляться для матриц > 20x20, когда время выполнения операции для списков начинает сильно расти\n",
    "\n",
    "**Умножение матриц с использованием Numpy более оптимально, во-первых, за счет удобной встроенной функции, во-вторых, за счет скорости выполнения кода**"
   ]
  },
  {
   "cell_type": "code",
   "execution_count": null,
   "metadata": {},
   "outputs": [],
   "source": []
  }
 ],
 "metadata": {
  "colab": {
   "provenance": []
  },
  "kernelspec": {
   "display_name": "Python 3",
   "language": "python",
   "name": "python3"
  },
  "language_info": {
   "codemirror_mode": {
    "name": "ipython",
    "version": 3
   },
   "file_extension": ".py",
   "mimetype": "text/x-python",
   "name": "python",
   "nbconvert_exporter": "python",
   "pygments_lexer": "ipython3",
   "version": "3.7.3"
  }
 },
 "nbformat": 4,
 "nbformat_minor": 1
}
